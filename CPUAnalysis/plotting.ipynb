import matplotlib.pyplot as plt
import numpy as np
import pandas as pd

file11 = "./CPUvsIterations/Q1/Q1_GS_Results/cpuanalysis0.csv"
file12 = "./CPUvsIterations/Q1/Q1_J_Results/cpuanalysis0.csv"
file13 = "./CPUvsIterations/Q1/Q1_SOR_Results/cpuanalysis0.csv"
file21 = "./CPUvsIterations/Q2/Q2_GS_Results/cpuanalysis0.csv"
file22 = "./CPUvsIterations/Q2/Q2_J_Results/cpuanalysis0.csv"
file23 = "./CPUvsIterations/Q2/Q2_SOR_Results/cpuanalysis0.csv"
file31 = "./CPUvsIterations/Q3/Q3_GS_Results/cpuanalysis0.csv"
file32 = "./CPUvsIterations/Q3/Q3_J_Results/cpuanalysis0.csv"
file33 = "./CPUvsIterations/Q3/Q3_SOR_Results/cpuanalysis0.csv"

files = [[file11, file12, file13],
         [file21, file22, file23],
         [file31, file32, file33]]


for fileset in files:
    no_iterations = np.array(pd.read_csv(fileset[0], usecols=[0]))

    GS_active_t = np.array(pd.read_csv(fileset[0], usecols=[3]))
    J_active_t = np.array(pd.read_csv(fileset[1], usecols=[3]))
    SOR_active_t = np.array(pd.read_csv(fileset[2], usecols=[3]))


    plt.plot(no_iterations, GS_active_t)
    plt.plot(no_iterations, J_active_t)
    plt.plot(no_iterations, SOR_active_t)

    plt.xscale("log")
    plt.yscale("log")

    plt.show()
