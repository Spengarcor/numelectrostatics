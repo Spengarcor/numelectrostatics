{
 "cells": [
  {
   "cell_type": "code",
   "execution_count": null,
   "metadata": {},
   "outputs": [],
   "source": [
    "import matplotlib.pyplot as plt\n",
    "import numpy as np\n",
    "import pandas as pd\n",
    "\n",
    "file11 = \"./CPUvsIterations/Q1/Q1_GS_Results/cpuanalysis0.csv\"\n",
    "file12 = \"./CPUvsIterations/Q1/Q1_J_Results/cpuanalysis0.csv\"\n",
    "file13 = \"./CPUvsIterations/Q1/Q1_SOR_Results/cpuanalysis0.csv\"\n",
    "file21 = \"./CPUvsIterations/Q2/Q2_GS_Results/cpuanalysis0.csv\"\n",
    "file22 = \"./CPUvsIterations/Q2/Q2_J_Results/cpuanalysis0.csv\"\n",
    "file23 = \"./CPUvsIterations/Q2/Q2_SOR_Results/cpuanalysis0.csv\"\n",
    "file31 = \"./CPUvsIterations/Q3/Q3_GS_Results/cpuanalysis0.csv\"\n",
    "file32 = \"./CPUvsIterations/Q3/Q3_J_Results/cpuanalysis0.csv\"\n",
    "file33 = \"./CPUvsIterations/Q3/Q3_SOR_Results/cpuanalysis0.csv\"\n",
    "\n",
    "files = [[file11, file12, file13],\n",
    "         [file21, file22, file23],\n",
    "         [file31, file32, file33]]\n",
    "\n",
    "\n",
    "for fileset in files:\n",
    "    no_iterations = np.array(pd.read_csv(fileset[0], usecols=[0]))\n",
    "\n",
    "    GS_active_t = np.array(pd.read_csv(fileset[0], usecols=[3]))\n",
    "    J_active_t = np.array(pd.read_csv(fileset[1], usecols=[3]))\n",
    "    SOR_active_t = np.array(pd.read_csv(fileset[2], usecols=[3]))\n",
    "\n",
    "\n",
    "    plt.plot(no_iterations, GS_active_t)\n",
    "    plt.plot(no_iterations, J_active_t)\n",
    "    plt.plot(no_iterations, SOR_active_t)\n",
    "\n",
    "    plt.xscale(\"log\")\n",
    "    plt.yscale(\"log\")\n",
    "\n",
    "    plt.show()\n",
    "~                "
   ]
  }
 ],
 "metadata": {
  "kernelspec": {
   "display_name": "Python 3",
   "language": "python",
   "name": "python3"
  },
  "language_info": {
   "codemirror_mode": {
    "name": "ipython",
    "version": 3
   },
   "file_extension": ".py",
   "mimetype": "text/x-python",
   "name": "python",
   "nbconvert_exporter": "python",
   "pygments_lexer": "ipython3",
   "version": "3.4.10"
  }
 },
 "nbformat": 4,
 "nbformat_minor": 2
}
