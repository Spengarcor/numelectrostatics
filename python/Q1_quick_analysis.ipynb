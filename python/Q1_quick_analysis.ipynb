{
 "cells": [
  {
   "cell_type": "code",
   "execution_count": 1,
   "metadata": {},
   "outputs": [],
   "source": [
    "import numpy as np"
   ]
  },
  {
   "cell_type": "code",
   "execution_count": 2,
   "metadata": {},
   "outputs": [],
   "source": [
    "def RMS_error(A,B):\n",
    "    TEMP = np.zeros((len(A[:,0]),len(A[0,:])))\n",
    "    TEMP = (A - B)**2\n",
    "    stdev = np.sqrt(np.sum(TEMP)/(len(A[:,0])*len(A[0,:])))\n",
    "    return stdev\n",
    "\n",
    "def abs_error(A,B):\n",
    "    TEMP = np.zeros((len(A[:,0]),len(A[0:,])))\n",
    "    TEMP = np.abs(A - B)\n",
    "    abserror = np.sum(TEMP)/(len(A[:,0])*len(A[0,:]))\n",
    "    return abserror\n",
    "              \n",
    "def analq1(V,a,b,centre_x,centre_y,x,y):\n",
    "    \"\"\"\n",
    "    V - potential at the further boundary\n",
    "    a - radius of inner circle\n",
    "    b - radius of outer circle\n",
    "    x, y - coordinates\n",
    "\"\"\"\n",
    "    dist = (centre_x-x)**2+(centre_y-y)**2\n",
    "    if dist<a**2:\n",
    "        V_out=0\n",
    "    elif dist>b**2:\n",
    "        V_out=V\n",
    "    else:\n",
    "        V_out=V*(np.log(np.sqrt(dist)/a)/np.log(b/a))\n",
    "    return V_out"
   ]
  },
  {
   "cell_type": "code",
   "execution_count": 3,
   "metadata": {},
   "outputs": [
    {
     "name": "stdout",
     "output_type": "stream",
     "text": [
      "Sigma  0.00520177299904\n",
      "Absolute  0.00208043097571\n"
     ]
    }
   ],
   "source": [
    "fname = \"../CPU_boundary_analysis/Q1_SOR/Q10.csv\"\n",
    "Data = np.loadtxt(fname, delimiter=';')\n",
    "X = np.array([[i for i in range(len(Data[0,:]))] for j in range(len(Data[:,0]))])\n",
    "Y = np.array([[j for i in range(len(Data[0,:]))] for j in range(len(Data[:,0]))])\n",
    "Analsol = np.zeros((len(Data[:,0]),len(Data[0,:])))\n",
    "for i in range(len(Data[:,0])):\n",
    "    for j in range(len(Data[0,:])):    \n",
    "        Analsol[i][j] = analq1(1.5,25,45,50,50,X[i][j],Y[i][j])\n",
    "\n",
    "stdev = RMS_error(Data,Analsol)\n",
    "print(\"Sigma \",stdev)\n",
    "stdev = abs_error(Data,Analsol)\n",
    "print(\"Absolute \",stdev)"
   ]
  }
 ],
 "metadata": {
  "kernelspec": {
   "display_name": "Python 3",
   "language": "python",
   "name": "python3"
  },
  "language_info": {
   "codemirror_mode": {
    "name": "ipython",
    "version": 3
   },
   "file_extension": ".py",
   "mimetype": "text/x-python",
   "name": "python",
   "nbconvert_exporter": "python",
   "pygments_lexer": "ipython3",
   "version": "3.4.10"
  }
 },
 "nbformat": 4,
 "nbformat_minor": 2
}
